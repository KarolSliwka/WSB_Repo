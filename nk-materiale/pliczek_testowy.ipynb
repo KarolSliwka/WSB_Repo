{
 "cells": [
  {
   "cell_type": "markdown",
   "metadata": {},
   "source": [
    "<h1><center>To jest plik do testów"
   ]
  },
  {
   "cell_type": "markdown",
   "metadata": {},
   "source": [
    "Git jest softwerem, który jest używany do zarządzania kodem źródłowym. Jest to narzędzie, które pozwala na śledzenie zmian w kodzie źródłowym, a także na współpracę z innymi programistami. Git jest bardzo popularny wśród programistów, ponieważ jest bardzo wydajny i łatwy w użyciu. W tym artykule omówimy, jak korzystać z Gita, aby zarządzać kodem źródłowym."
   ]
  },
  {
   "cell_type": "markdown",
   "metadata": {},
   "source": []
  }
 ],
 "metadata": {
  "language_info": {
   "name": "python"
  }
 },
 "nbformat": 4,
 "nbformat_minor": 2
}
